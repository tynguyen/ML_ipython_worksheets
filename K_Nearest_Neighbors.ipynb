{
  "nbformat": 4,
  "nbformat_minor": 0,
  "metadata": {
    "kernelspec": {
      "display_name": "Python 3",
      "language": "python",
      "name": "python3"
    },
    "language_info": {
      "codemirror_mode": {
        "name": "ipython",
        "version": 3
      },
      "file_extension": ".py",
      "mimetype": "text/x-python",
      "name": "python",
      "nbconvert_exporter": "python",
      "pygments_lexer": "ipython3",
      "version": "3.6.3"
    },
    "colab": {
      "name": "K_Nearest_Neighbors.ipynb",
      "provenance": [],
      "collapsed_sections": [],
      "toc_visible": true,
      "include_colab_link": true
    }
  },
  "cells": [
    {
      "cell_type": "markdown",
      "metadata": {
        "id": "view-in-github",
        "colab_type": "text"
      },
      "source": [
        "<a href=\"https://colab.research.google.com/github/tynguyen/ML_ipython_worksheets/blob/main/K_Nearest_Neighbors.ipynb\" target=\"_parent\"><img src=\"https://colab.research.google.com/assets/colab-badge.svg\" alt=\"Open In Colab\"/></a>"
      ]
    },
    {
      "cell_type": "markdown",
      "metadata": {
        "id": "ncDh8NUMEqS5"
      },
      "source": [
        "# **CIS 520: Machine Learning, Fall 2020**\n",
        "# **Week 2, Worksheet 1**\n",
        "## **K Nearest Neighbors (KNN)** \n",
        "\n",
        "\n",
        "- **Content Creator:** Pooja Consul\n",
        "- **Content Reviewers:** Tejas Srivastava, Michael Zhou\n",
        "\n",
        "The objective of this notebook is to walk through a working example of the K Nearest Neighbors (KNN) classification algorithm for the task of \n",
        "handwritten digit classification. The handwritten digits denote number 0-9. We will be using the famous MNIST dataset here. \n",
        "\n",
        "\n",
        "\n",
        "![mnist.png](data:image/png;base64,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)"
      ]
    },
    {
      "cell_type": "markdown",
      "metadata": {
        "id": "CXfedgmsEtxK"
      },
      "source": [
        "##Import Libraries"
      ]
    },
    {
      "cell_type": "code",
      "metadata": {
        "id": "BPJG99TGEv93"
      },
      "source": [
        "from sklearn.model_selection import train_test_split\n",
        "from sklearn.neighbors import KNeighborsClassifier\n",
        "from sklearn.metrics import confusion_matrix\n",
        "from sklearn.metrics import classification_report\n",
        "from sklearn import datasets\n",
        "from skimage import exposure\n",
        "import matplotlib.pyplot as plt\n",
        "import numpy as np\n",
        "import cv2"
      ],
      "execution_count": null,
      "outputs": []
    },
    {
      "cell_type": "markdown",
      "metadata": {
        "id": "6CjqGOLWE2I2"
      },
      "source": [
        "## Dataset\n",
        "\n",
        "We will start by loading the MNIST dataset from sklearn and then create training, validation, and testing data.\n"
      ]
    },
    {
      "cell_type": "code",
      "metadata": {
        "id": "HyBiPIM1FCte",
        "colab": {
          "base_uri": "https://localhost:8080/",
          "height": 68
        },
        "outputId": "9757344a-3559-4dd9-9b98-0e1e60561c05"
      },
      "source": [
        "# load the MNIST digits dataset\n",
        "mnist = datasets.load_digits()\n",
        "\n",
        "# take the MNIST data and construct the training and testing split, using 75% of the\n",
        "# data for training and 25% for testing\n",
        "\n",
        "(X_train, X_test, y_train, y_test) = train_test_split(np.array(mnist.data),\n",
        "mnist.target, test_size=0.25, random_state=42)\n",
        "\n",
        "# now, let's take 10% of the training data and use that for validation\n",
        "\n",
        "(X_train, X_val, y_train, y_val) = train_test_split(X_train, y_train, test_size=0.1, random_state=42)\n",
        "\n",
        "# show the sizes of each data split\n",
        "\n",
        "print(\"training data points: {}\".format(len(y_train)))\n",
        "print(\"validation data points: {}\".format(len(y_val)))\n",
        "print(\"testing data points: {}\".format(len(y_test)))\n"
      ],
      "execution_count": null,
      "outputs": [
        {
          "output_type": "stream",
          "text": [
            "training data points: 1212\n",
            "validation data points: 135\n",
            "testing data points: 450\n"
          ],
          "name": "stdout"
        }
      ]
    },
    {
      "cell_type": "markdown",
      "metadata": {
        "id": "yIVwj9lOFJow"
      },
      "source": [
        "##Training\n",
        "\n",
        "We will use sklearn's KNeighborsClassifier for training. Let us use different values of 'k' to gain some insights."
      ]
    },
    {
      "cell_type": "code",
      "metadata": {
        "_cell_guid": "13f6e3e8-d663-40f3-b9e6-f0aa364a53d9",
        "_uuid": "3d093a9bc682ebe45986b3fb5494d9448221e213",
        "id": "_RbHzQ3OEcMz"
      },
      "source": [
        "# initialize the values of k for our k-Nearest Neighbor classifier along with the\n",
        "# list of accuracies for each value of k\n",
        "k_values = range(1, 30, 2)\n",
        "accuracies = []\n",
        "\n",
        "# loop over various values of `k` for the k-Nearest Neighbor classifier\n",
        "\n",
        "for k in range(1, 30, 2):\n",
        "  model = KNeighborsClassifier(n_neighbors=k)\n",
        "  model.fit(X_train, y_train)\n",
        "  score = model.score(X_val, y_val)\n",
        "  accuracies.append(score)\n",
        "          "
      ],
      "execution_count": null,
      "outputs": []
    },
    {
      "cell_type": "markdown",
      "metadata": {
        "id": "4wQT1zQFHegp"
      },
      "source": [
        "##Evaluation\n",
        "\n",
        "Finally, we will plot how different k values fare."
      ]
    },
    {
      "cell_type": "code",
      "metadata": {
        "id": "RLcTucajHoKh",
        "colab": {
          "base_uri": "https://localhost:8080/",
          "height": 279
        },
        "outputId": "b00a7eef-7e5c-4895-8614-04f64c80e6ab"
      },
      "source": [
        "plt.plot(k_values, accuracies, color='g')\n",
        "plt.xlabel(\"K values\")\n",
        "plt.ylabel(\"Validation Accuracy\")\n",
        "plt.show()"
      ],
      "execution_count": null,
      "outputs": [
        {
          "output_type": "display_data",
          "data": {
            "image/png": "[encoded data removed]",
            "text/plain": [
              "<Figure size 432x288 with 1 Axes>"
            ]
          },
          "metadata": {
            "tags": [],
            "needs_background": "light"
          }
        }
      ]
    },
    {
      "cell_type": "markdown",
      "metadata": {
        "id": "oIWWFEVkIVta"
      },
      "source": [
        "- Can you explain the trend in the plot? \n",
        "\n",
        "- What do you think happens when k=1 or when k takes larger values? Why do these trends occur?\n",
        "\n",
        "- Which optimal value of k should be chosen?"
      ]
    },
    {
      "cell_type": "markdown",
      "metadata": {
        "id": "DLFocic8UNa2"
      },
      "source": [
        "Retraining with our chosen value of k, we can reevaluate the selected classifier. "
      ]
    },
    {
      "cell_type": "code",
      "metadata": {
        "id": "CGP0X7DEFal5",
        "colab": {
          "base_uri": "https://localhost:8080/",
          "height": 1000
        },
        "outputId": "0f4e15d2-829c-4c24-f237-f045b9daf3d9"
      },
      "source": [
        "# re-train our classifier using  k = 5 and predict the labels of the test data\n",
        "k = 5\n",
        "model = KNeighborsClassifier(n_neighbors=k_values[k])\n",
        "model.fit(X_train, y_train)\n",
        "predictions = model.predict(X_test)\n",
        "\n",
        "# show a final classification report demonstrating the accuracy of the classifier\n",
        "# for each of the digits\n",
        "\n",
        "print(\"EVALUATION ON TESTING DATA\")\n",
        "print(classification_report(y_test, predictions))\n",
        "\n",
        "# displaying results for a few digits\n",
        "for i in np.random.randint(0, high=len(y_test), size=(5,)):\n",
        "  # grab the image and classify it\n",
        "  image = X_test[i]\n",
        "  prediction = model.predict([image])[0]\n",
        "  \n",
        "  # show the prediction\n",
        "  imgdata = np.array(image, dtype='float')\n",
        "  pixels = imgdata.reshape((8,8))\n",
        "  plt.imshow(pixels,cmap='gray')\n",
        "  plt.annotate(prediction,(3,3),bbox={'facecolor':'white'},fontsize=16)\n",
        "  print(\"Predicted digit : \",prediction)\n",
        "  plt.show()"
      ],
      "execution_count": null,
      "outputs": [
        {
          "output_type": "stream",
          "text": [
            "EVALUATION ON TESTING DATA\n",
            "              precision    recall  f1-score   support\n",
            "\n",
            "           0       1.00      1.00      1.00        43\n",
            "           1       0.95      1.00      0.97        37\n",
            "           2       1.00      1.00      1.00        38\n",
            "           3       1.00      0.98      0.99        46\n",
            "           4       0.98      1.00      0.99        55\n",
            "           5       0.98      0.93      0.96        59\n",
            "           6       0.98      1.00      0.99        45\n",
            "           7       1.00      1.00      1.00        41\n",
            "           8       0.97      0.95      0.96        38\n",
            "           9       0.94      0.96      0.95        48\n",
            "\n",
            "    accuracy                           0.98       450\n",
            "   macro avg       0.98      0.98      0.98       450\n",
            "weighted avg       0.98      0.98      0.98       450\n",
            "\n",
            "Predicted digit :  1\n"
          ],
          "name": "stdout"
        },
        {
          "output_type": "display_data",
          "data": {
            "image/png": "[encoded data removed]",
            "text/plain": [
              "<Figure size 432x288 with 1 Axes>"
            ]
          },
          "metadata": {
            "tags": [],
            "needs_background": "light"
          }
        },
        {
          "output_type": "stream",
          "text": [
            "Predicted digit :  5\n"
          ],
          "name": "stdout"
        },
        {
          "output_type": "display_data",
          "data": {
            "image/png": "[encoded data removed]",
            "text/plain": [
              "<Figure size 432x288 with 1 Axes>"
            ]
          },
          "metadata": {
            "tags": [],
            "needs_background": "light"
          }
        },
        {
          "output_type": "stream",
          "text": [
            "Predicted digit :  5\n"
          ],
          "name": "stdout"
        },
        {
          "output_type": "display_data",
          "data": {
            "image/png": "[encoded data removed]",
            "text/plain": [
              "<Figure size 432x288 with 1 Axes>"
            ]
          },
          "metadata": {
            "tags": [],
            "needs_background": "light"
          }
        },
        {
          "output_type": "stream",
          "text": [
            "Predicted digit :  0\n"
          ],
          "name": "stdout"
        },
        {
          "output_type": "display_data",
          "data": {
            "image/png": "[encoded data removed]",
            "text/plain": [
              "<Figure size 432x288 with 1 Axes>"
            ]
          },
          "metadata": {
            "tags": [],
            "needs_background": "light"
          }
        },
        {
          "output_type": "stream",
          "text": [
            "Predicted digit :  1\n"
          ],
          "name": "stdout"
        },
        {
          "output_type": "display_data",
          "data": {
            "image/png": "[encoded data removed]",
            "text/plain": [
              "<Figure size 432x288 with 1 Axes>"
            ]
          },
          "metadata": {
            "tags": [],
            "needs_background": "light"
          }
        }
      ]
    }
  ]
}