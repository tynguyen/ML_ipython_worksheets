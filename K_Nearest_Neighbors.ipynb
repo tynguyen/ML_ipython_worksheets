{
  "nbformat": 4,
  "nbformat_minor": 0,
  "metadata": {
    "kernelspec": {
      "display_name": "Python 3",
      "language": "python",
      "name": "python3"
    },
    "language_info": {
      "codemirror_mode": {
        "name": "ipython",
        "version": 3
      },
      "file_extension": ".py",
      "mimetype": "text/x-python",
      "name": "python",
      "nbconvert_exporter": "python",
      "pygments_lexer": "ipython3",
      "version": "3.6.3"
    },
    "colab": {
      "name": "K_Nearest_Neighbors.ipynb",
      "provenance": [],
      "collapsed_sections": [],
      "toc_visible": true,
      "include_colab_link": true
    }
  },
  "cells": [
    {
      "cell_type": "markdown",
      "metadata": {
        "id": "view-in-github",
        "colab_type": "text"
      },
      "source": [
        "<a href=\"https://colab.research.google.com/github/tynguyen/ML_ipython_worksheets/blob/main/K_Nearest_Neighbors.ipynb\" target=\"_parent\"><img src=\"https://colab.research.google.com/assets/colab-badge.svg\" alt=\"Open In Colab\"/></a>"
      ]
    },
    {
      "cell_type": "markdown",
      "metadata": {
        "id": "ncDh8NUMEqS5"
      },
      "source": [
        "#CIS 519 \n",
        "## Week 2, Worksheet 0\n",
        "# **K Nearest Neighbors (KNN)** \n",
        "\n",
        "- **Content Creator:** Ty Nguyen\n",
        "- **Content Reviewers:** Halley Young, Kyle Vedder\n",
        "\n",
        "The objective of this notebook is to walk through a working example of the K Nearest Neighbors (KNN) classification algorithm for the task of \n",
        "handwritten digit classification. The handwritten digits denote number 0-9. We will be using the famous MNIST dataset here. \n",
        "\n"
      ]
    },
    {
      "cell_type": "code",
      "metadata": {
        "id": "bkLasBQNphiA"
      },
      "source": [
        "# Install packages if necessary\n",
        "# !python -m pip install scikit-learn"
      ],
      "execution_count": null,
      "outputs": []
    },
    {
      "cell_type": "markdown",
      "metadata": {
        "id": "CXfedgmsEtxK"
      },
      "source": [
        "##Import Libraries"
      ]
    },
    {
      "cell_type": "code",
      "metadata": {
        "id": "BPJG99TGEv93"
      },
      "source": [
        "from sklearn.model_selection import train_test_split\n",
        "from sklearn.neighbors import KNeighborsClassifier\n",
        "from sklearn.metrics import confusion_matrix\n",
        "from sklearn.metrics import classification_report\n",
        "from sklearn.datasets import load_digits\n",
        "from skimage import exposure\n",
        "import matplotlib.pyplot as plt\n",
        "import numpy as np\n",
        "import cv2\n",
        "import plotly.graph_objects as go\n",
        "import seaborn as sns\n",
        "import matplotlib as mpl \n",
        "# Some simple settings to make nice figures\n",
        "mpl.rc('axes', labelsize=14)\n",
        "mpl.rc('xtick', labelsize=14) \n",
        "mpl.rc('ytick', labelsize=14) # y axis's label size\n",
        "mpl.rc('font', size=24) # Fig's title size \n",
        "mpl.rc('legend', fontsize=14) # Legend's fontsize \n",
        "mpl.rc('pdf', fonttype=42) # To avoid font-type-3 issue when importing figures as pdf for paper publication \n",
        "mpl.rc('font', family={'Times','monospace','sans-serif','monospace'}) # To avoid font-type-3 issue when importing figures as pdf for paper publication "
      ],
      "execution_count": 25,
      "outputs": []
    },
    {
      "cell_type": "markdown",
      "metadata": {
        "id": "6CjqGOLWE2I2"
      },
      "source": [
        "## Dataset\n",
        "\n",
        "We will start by loading the MNIST dataset from sklearn and then create training, validation, and testing data.\n"
      ]
    },
    {
      "cell_type": "code",
      "metadata": {
        "id": "HyBiPIM1FCte",
        "colab": {
          "base_uri": "https://localhost:8080/"
        },
        "outputId": "78378cd7-8f40-42ab-ac8f-acb863cdfef1"
      },
      "source": [
        "# load the MNIST digits dataset\n",
        "mnist = load_digits()\n",
        "\"\"\"\n",
        "**Data Set Characteristics:**\n",
        "    :Number of Instances: 5620\n",
        "    :Number of Attributes: 64\n",
        "    :Attribute Information: 8x8 image of integer pixels in the range 0..16.\n",
        "    :Missing Attribute Values: None\n",
        "    :Creator: E. Alpaydin (alpaydin '@' boun.edu.tr)\n",
        "    :Date: July; 1998\n",
        "\"\"\"\n",
        "\n",
        "# take the MNIST data and construct the training and testing split, using 75% of the\n",
        "# data for training and 25% for testing\n",
        "\n",
        "X_train, X_test, y_train, y_test = train_test_split(np.array(mnist.data),\n",
        "mnist.target, test_size=0.25, random_state=0)\n",
        "\n",
        "# now, let's take 10% of the training data and use that for validation\n",
        "\n",
        "(X_train, X_val, y_train, y_val) = train_test_split(X_train, y_train, test_size=0.1, random_state=42)\n",
        "\n",
        "# show the sizes of each data split\n",
        "\n",
        "print(\"training data points: {}\".format(len(y_train)))\n",
        "print(\"validation data points: {}\".format(len(y_val)))\n",
        "print(\"testing data points: {}\".format(len(y_test)))\n",
        "print(f\"Shape of X_train: {X_train.shape}\")\n",
        "print(f\"Shape of y_train: {y_train.shape}\")\n",
        "print(f\"Learn more about this data\\n: {mnist['DESCR']}\")"
      ],
      "execution_count": 84,
      "outputs": [
        {
          "output_type": "stream",
          "text": [
            "training data points: 1212\n",
            "validation data points: 135\n",
            "testing data points: 450\n",
            "Shape of X_train: (1212, 64)\n",
            "Shape of y_train: (1212,)\n",
            "Learn more about this data\n",
            ": .. _digits_dataset:\n",
            "\n",
            "Optical recognition of handwritten digits dataset\n",
            "--------------------------------------------------\n",
            "\n",
            "**Data Set Characteristics:**\n",
            "\n",
            "    :Number of Instances: 5620\n",
            "    :Number of Attributes: 64\n",
            "    :Attribute Information: 8x8 image of integer pixels in the range 0..16.\n",
            "    :Missing Attribute Values: None\n",
            "    :Creator: E. Alpaydin (alpaydin '@' boun.edu.tr)\n",
            "    :Date: July; 1998\n",
            "\n",
            "This is a copy of the test set of the UCI ML hand-written digits datasets\n",
            "https://archive.ics.uci.edu/ml/datasets/Optical+Recognition+of+Handwritten+Digits\n",
            "\n",
            "The data set contains images of hand-written digits: 10 classes where\n",
            "each class refers to a digit.\n",
            "\n",
            "Preprocessing programs made available by NIST were used to extract\n",
            "normalized bitmaps of handwritten digits from a preprinted form. From a\n",
            "total of 43 people, 30 contributed to the training set and different 13\n",
            "to the test set. 32x32 bitmaps are divided into nonoverlapping blocks of\n",
            "4x4 and the number of on pixels are counted in each block. This generates\n",
            "an input matrix of 8x8 where each element is an integer in the range\n",
            "0..16. This reduces dimensionality and gives invariance to small\n",
            "distortions.\n",
            "\n",
            "For info on NIST preprocessing routines, see M. D. Garris, J. L. Blue, G.\n",
            "T. Candela, D. L. Dimmick, J. Geist, P. J. Grother, S. A. Janet, and C.\n",
            "L. Wilson, NIST Form-Based Handprint Recognition System, NISTIR 5469,\n",
            "1994.\n",
            "\n",
            ".. topic:: References\n",
            "\n",
            "  - C. Kaynak (1995) Methods of Combining Multiple Classifiers and Their\n",
            "    Applications to Handwritten Digit Recognition, MSc Thesis, Institute of\n",
            "    Graduate Studies in Science and Engineering, Bogazici University.\n",
            "  - E. Alpaydin, C. Kaynak (1998) Cascading Classifiers, Kybernetika.\n",
            "  - Ken Tang and Ponnuthurai N. Suganthan and Xi Yao and A. Kai Qin.\n",
            "    Linear dimensionalityreduction using relevance weighted LDA. School of\n",
            "    Electrical and Electronic Engineering Nanyang Technological University.\n",
            "    2005.\n",
            "  - Claudio Gentile. A New Approximate Maximal Margin Classification\n",
            "    Algorithm. NIPS. 2000.\n"
          ],
          "name": "stdout"
        }
      ]
    },
    {
      "cell_type": "markdown",
      "metadata": {
        "id": "cvNmcMA5qOes"
      },
      "source": [
        "## Data Visualization\n",
        "One of the important steps in machine learning & data analysis is to understand the data. Besides the meaning and the range of the value of each attribute in the data, this step often involves data visualization.  "
      ]
    },
    {
      "cell_type": "markdown",
      "metadata": {
        "id": "0-3HI7DnsZX5"
      },
      "source": [
        "### Data Distributions\n",
        "Let's plot out the histogram of the data which are basically gray images with intensity values ranging from 0 -> 16 (from data description). \n",
        "\n",
        "**Don't blindly trust the data description. It's not uncommon to have noisy/incorrect data**"
      ]
    },
    {
      "cell_type": "code",
      "metadata": {
        "id": "9GvN96C8shMk",
        "outputId": "239d8ed2-d756-41ed-a1c2-7bf171c11352",
        "colab": {
          "base_uri": "https://localhost:8080/",
          "height": 512
        }
      },
      "source": [
        "plt.figure(figsize=(15,6))\n",
        "sns.countplot(X_train.flatten()) #  convert N x 64 => (N*64,)\n",
        "plt.xlabel('Pixel values')\n",
        "plt.title('Histogram of Pixel Values')\n",
        "plt.show()\n"
      ],
      "execution_count": 26,
      "outputs": [
        {
          "output_type": "stream",
          "text": [
            "/usr/local/lib/python3.6/dist-packages/seaborn/_decorators.py:43: FutureWarning:\n",
            "\n",
            "Pass the following variable as a keyword arg: x. From version 0.12, the only valid positional argument will be `data`, and passing other arguments without an explicit keyword will result in an error or misinterpretation.\n",
            "\n"
          ],
          "name": "stderr"
        },
        {
          "output_type": "display_data",
          "data": {
            "image/png": "[encoded data removed]",
            "text/plain": [
              "<Figure size 1080x432 with 1 Axes>"
            ]
          },
          "metadata": {
            "tags": [],
            "needs_background": "light"
          }
        }
      ]
    },
    {
      "cell_type": "markdown",
      "metadata": {
        "id": "o923Sh7itvpr"
      },
      "source": [
        "### Based on this histogram, we're pretty sure that the given data are consistent with what's described!"
      ]
    },
    {
      "cell_type": "markdown",
      "metadata": {
        "id": "LOjdaVmIyjNv"
      },
      "source": [
        "### Class Distribution\n",
        "It's also very important to know the distribution of object classes in the dataset to handle a potential class imbalance problem. Class imbanlance problem is a critical issue when some object class has a dominant occurrences in the dataset, causing the trained model to be heavily trained on these classes while having less emphases on the others. \n",
        "\n",
        "In practice, this issue, if happens, can be addressed using different methods such as using a weighted loss, and/or resampling."
      ]
    },
    {
      "cell_type": "code",
      "metadata": {
        "id": "L1p9_kTHzcNO",
        "outputId": "9c24c1af-4e19-4e52-bdee-03c949cf2a45",
        "colab": {
          "base_uri": "https://localhost:8080/",
          "height": 512
        }
      },
      "source": [
        "# We will plot out the histogram of the labels\n",
        "plt.figure(figsize=(15,6))\n",
        "sns.countplot(y_train)\n",
        "plt.xlabel('Class Indices')\n",
        "plt.title('Object Class Distribution')\n",
        "plt.show()\n"
      ],
      "execution_count": 36,
      "outputs": [
        {
          "output_type": "stream",
          "text": [
            "/usr/local/lib/python3.6/dist-packages/seaborn/_decorators.py:43: FutureWarning:\n",
            "\n",
            "Pass the following variable as a keyword arg: x. From version 0.12, the only valid positional argument will be `data`, and passing other arguments without an explicit keyword will result in an error or misinterpretation.\n",
            "\n"
          ],
          "name": "stderr"
        },
        {
          "output_type": "display_data",
          "data": {
            "image/png": "[encoded data removed]",
            "text/plain": [
              "<Figure size 1080x432 with 1 Axes>"
            ]
          },
          "metadata": {
            "tags": [],
            "needs_background": "light"
          }
        }
      ]
    },
    {
      "cell_type": "markdown",
      "metadata": {
        "id": "CVcwNb0yz6v5"
      },
      "source": [
        "## It's great that this dataset is already well balanced so it should be good to go."
      ]
    },
    {
      "cell_type": "markdown",
      "metadata": {
        "id": "xR_M7Q8WwX9-"
      },
      "source": [
        "### Data Point Visualization\n",
        "Let's plot out a single data point which is basically a gray image with intensity value range from 0 -> 16"
      ]
    },
    {
      "cell_type": "code",
      "metadata": {
        "id": "yAXMGVhowfKG"
      },
      "source": [
        "labels_list = np.zeros(10)\n",
        "imgs_list   = np.zeros([10, 8, 8], dtype=np.uint8)\n",
        "for i in range(len(y_train)):\n",
        "  if labels_list.sum() == 10:\n",
        "    break \n",
        "  label = int(y_train[i])\n",
        "  labels_list[label] = 1\n",
        "  imgs_list[label] = X_train[i].reshape([8,8])"
      ],
      "execution_count": 73,
      "outputs": []
    },
    {
      "cell_type": "code",
      "metadata": {
        "id": "uKlw1JQDxZjj",
        "outputId": "584b4454-56a7-4845-cc14-1d3b0b7f089f",
        "colab": {
          "base_uri": "https://localhost:8080/",
          "height": 230
        }
      },
      "source": [
        "def gallery(array, ncols=5):\n",
        "    nindex, height, width = array.shape\n",
        "    nrows = nindex//ncols\n",
        "    assert nindex == nrows*ncols\n",
        "    # want result.shape = (height*nrows, width*ncols)\n",
        "    result = (array.reshape(nrows, ncols, height, width)\n",
        "              .swapaxes(1,2)\n",
        "              .reshape(height*nrows, width*ncols))\n",
        "    return result\n",
        "result = gallery(imgs_list)\n",
        "plt.figure(figsize=(8,4))\n",
        "plt.imshow(result, cmap='gray')\n",
        "plt.show()\n",
        " \n",
        " "
      ],
      "execution_count": 75,
      "outputs": [
        {
          "output_type": "display_data",
          "data": {
            "image/png": "[encoded data removed]",
            "text/plain": [
              "<Figure size 576x288 with 1 Axes>"
            ]
          },
          "metadata": {
            "tags": [],
            "needs_background": "light"
          }
        }
      ]
    },
    {
      "cell_type": "markdown",
      "metadata": {
        "id": "yIVwj9lOFJow"
      },
      "source": [
        "##Training\n",
        "\n",
        "We will use sklearn's KNeighborsClassifier for training. Let us use different values of 'k' to gain some insights."
      ]
    },
    {
      "cell_type": "code",
      "metadata": {
        "_cell_guid": "13f6e3e8-d663-40f3-b9e6-f0aa364a53d9",
        "_uuid": "3d093a9bc682ebe45986b3fb5494d9448221e213",
        "id": "_RbHzQ3OEcMz"
      },
      "source": [
        "# initialize the values of k for our k-Nearest Neighbor classifier along with the\n",
        "# list of accuracies for each value of k\n",
        "k_values = range(1, 15, 1)\n",
        "train_accuracies = []\n",
        "valid_accuracies = []\n",
        "# loop over various values of `k` for the k-Nearest Neighbor classifier\n",
        "\n",
        "for k in k_values:\n",
        "  model = KNeighborsClassifier(n_neighbors=k)\n",
        "  model.fit(X_train, y_train)\n",
        "  score = model.score(X_val, y_val)\n",
        "  valid_accuracies.append(score)\n",
        "\n",
        "  score = model.score(X_train, y_train)\n",
        "  train_accuracies.append(score)     "
      ],
      "execution_count": 86,
      "outputs": []
    },
    {
      "cell_type": "markdown",
      "metadata": {
        "id": "4wQT1zQFHegp"
      },
      "source": [
        "## Learning Curve\n",
        "\n",
        "Finally, we will plot how different k values fare."
      ]
    },
    {
      "cell_type": "code",
      "metadata": {
        "id": "RLcTucajHoKh",
        "colab": {
          "base_uri": "https://localhost:8080/",
          "height": 542
        },
        "outputId": "fd9e35db-b5e4-4fef-d603-94186ec7e60d"
      },
      "source": [
        "fig = go.Figure()\n",
        "fig.add_trace(go.Scatter(x = list(k_values), \n",
        "                        y = valid_accuracies,\n",
        "                        mode='lines',\n",
        "                        name='Validation Accuracy'))\n",
        "fig.add_trace(go.Scatter(x = list(k_values), \n",
        "                        y = train_accuracies,\n",
        "                        mode='lines',\n",
        "                        name='Training Accuracy'))\n",
        "fig.update_layout(title='Validation Accuracy v.s. K Values',\n",
        "                  yaxis_title='Validation Accuracy',\n",
        "                  xaxis_title='K Values'\n",
        "                  )\n",
        "fig.show()"
      ],
      "execution_count": 87,
      "outputs": [
        {
          "output_type": "display_data",
          "data": {
            "text/html": [
              "<html>\n",
              "<head><meta charset=\"utf-8\" /></head>\n",
              "<body>\n",
              "    <div>\n",
              "            <script src=\"https://cdnjs.cloudflare.com/ajax/libs/mathjax/2.7.5/MathJax.js?config=TeX-AMS-MML_SVG\"></script><script type=\"text/javascript\">if (window.MathJax) {MathJax.Hub.Config({SVG: {font: \"STIX-Web\"}});}</script>\n",
              "                <script type=\"text/javascript\">window.PlotlyConfig = {MathJaxConfig: 'local'};</script>\n",
              "        <script src=\"https://cdn.plot.ly/plotly-latest.min.js\"></script>    \n",
              "            <div id=\"59278718-27d8-4d35-9c3a-6a3eb821f2df\" class=\"plotly-graph-div\" style=\"height:525px; width:100%;\"></div>\n",
              "            <script type=\"text/javascript\">\n",
              "                \n",
              "                    window.PLOTLYENV=window.PLOTLYENV || {};\n",
              "                    \n",
              "                if (document.getElementById(\"59278718-27d8-4d35-9c3a-6a3eb821f2df\")) {\n",
              "                    Plotly.newPlot(\n",
              "                        '59278718-27d8-4d35-9c3a-6a3eb821f2df',\n",
              "                        [{\"mode\": \"lines\", \"name\": \"Validation Accuracy\", \"type\": \"scatter\", \"x\": [1, 2, 3, 4, 5, 6, 7, 8, 9, 10, 11, 12, 13, 14], \"y\": [0.9851851851851852, 0.9777777777777777, 0.9777777777777777, 0.9851851851851852, 0.9851851851851852, 0.9703703703703703, 0.9777777777777777, 0.9777777777777777, 0.9777777777777777, 0.9703703703703703, 0.9703703703703703, 0.9629629629629629, 0.9629629629629629, 0.9629629629629629]}, {\"mode\": \"lines\", \"name\": \"Training Accuracy\", \"type\": \"scatter\", \"x\": [1, 2, 3, 4, 5, 6, 7, 8, 9, 10, 11, 12, 13, 14], \"y\": [1.0, 0.9900990099009901, 0.9925742574257426, 0.9933993399339934, 0.9917491749174917, 0.9892739273927392, 0.9917491749174917, 0.990924092409241, 0.990924092409241, 0.9843234323432343, 0.9851485148514851, 0.9818481848184818, 0.9834983498349835, 0.9826732673267327]}],\n",
              "                        {\"template\": {\"data\": {\"bar\": [{\"error_x\": {\"color\": \"#2a3f5f\"}, \"error_y\": {\"color\": \"#2a3f5f\"}, \"marker\": {\"line\": {\"color\": \"#E5ECF6\", \"width\": 0.5}}, \"type\": \"bar\"}], \"barpolar\": [{\"marker\": {\"line\": {\"color\": \"#E5ECF6\", \"width\": 0.5}}, \"type\": \"barpolar\"}], \"carpet\": [{\"aaxis\": {\"endlinecolor\": \"#2a3f5f\", \"gridcolor\": \"white\", \"linecolor\": \"white\", \"minorgridcolor\": \"white\", \"startlinecolor\": \"#2a3f5f\"}, \"baxis\": {\"endlinecolor\": \"#2a3f5f\", \"gridcolor\": \"white\", \"linecolor\": \"white\", \"minorgridcolor\": \"white\", \"startlinecolor\": \"#2a3f5f\"}, \"type\": \"carpet\"}], \"choropleth\": [{\"colorbar\": {\"outlinewidth\": 0, \"ticks\": \"\"}, \"type\": \"choropleth\"}], \"contour\": [{\"colorbar\": {\"outlinewidth\": 0, \"ticks\": \"\"}, \"colorscale\": [[0.0, \"#0d0887\"], [0.1111111111111111, \"#46039f\"], [0.2222222222222222, \"#7201a8\"], [0.3333333333333333, \"#9c179e\"], [0.4444444444444444, \"#bd3786\"], [0.5555555555555556, \"#d8576b\"], [0.6666666666666666, \"#ed7953\"], [0.7777777777777778, \"#fb9f3a\"], [0.8888888888888888, \"#fdca26\"], [1.0, \"#f0f921\"]], \"type\": \"contour\"}], \"contourcarpet\": [{\"colorbar\": {\"outlinewidth\": 0, \"ticks\": \"\"}, \"type\": \"contourcarpet\"}], \"heatmap\": [{\"colorbar\": {\"outlinewidth\": 0, \"ticks\": \"\"}, \"colorscale\": [[0.0, \"#0d0887\"], [0.1111111111111111, \"#46039f\"], [0.2222222222222222, \"#7201a8\"], [0.3333333333333333, \"#9c179e\"], [0.4444444444444444, \"#bd3786\"], [0.5555555555555556, \"#d8576b\"], [0.6666666666666666, \"#ed7953\"], [0.7777777777777778, \"#fb9f3a\"], [0.8888888888888888, \"#fdca26\"], [1.0, \"#f0f921\"]], \"type\": \"heatmap\"}], \"heatmapgl\": [{\"colorbar\": {\"outlinewidth\": 0, \"ticks\": \"\"}, \"colorscale\": [[0.0, \"#0d0887\"], [0.1111111111111111, \"#46039f\"], [0.2222222222222222, \"#7201a8\"], [0.3333333333333333, \"#9c179e\"], [0.4444444444444444, \"#bd3786\"], [0.5555555555555556, \"#d8576b\"], [0.6666666666666666, \"#ed7953\"], [0.7777777777777778, \"#fb9f3a\"], [0.8888888888888888, \"#fdca26\"], [1.0, \"#f0f921\"]], \"type\": \"heatmapgl\"}], \"histogram\": [{\"marker\": {\"colorbar\": {\"outlinewidth\": 0, \"ticks\": \"\"}}, \"type\": \"histogram\"}], \"histogram2d\": [{\"colorbar\": {\"outlinewidth\": 0, \"ticks\": \"\"}, \"colorscale\": [[0.0, \"#0d0887\"], [0.1111111111111111, \"#46039f\"], [0.2222222222222222, \"#7201a8\"], [0.3333333333333333, \"#9c179e\"], [0.4444444444444444, \"#bd3786\"], [0.5555555555555556, \"#d8576b\"], [0.6666666666666666, \"#ed7953\"], [0.7777777777777778, \"#fb9f3a\"], [0.8888888888888888, \"#fdca26\"], [1.0, \"#f0f921\"]], \"type\": \"histogram2d\"}], \"histogram2dcontour\": [{\"colorbar\": {\"outlinewidth\": 0, \"ticks\": \"\"}, \"colorscale\": [[0.0, \"#0d0887\"], [0.1111111111111111, \"#46039f\"], [0.2222222222222222, \"#7201a8\"], [0.3333333333333333, \"#9c179e\"], [0.4444444444444444, \"#bd3786\"], [0.5555555555555556, \"#d8576b\"], [0.6666666666666666, \"#ed7953\"], [0.7777777777777778, \"#fb9f3a\"], [0.8888888888888888, \"#fdca26\"], [1.0, \"#f0f921\"]], \"type\": \"histogram2dcontour\"}], \"mesh3d\": [{\"colorbar\": {\"outlinewidth\": 0, \"ticks\": \"\"}, \"type\": \"mesh3d\"}], \"parcoords\": [{\"line\": {\"colorbar\": {\"outlinewidth\": 0, \"ticks\": \"\"}}, \"type\": \"parcoords\"}], \"pie\": [{\"automargin\": true, \"type\": \"pie\"}], \"scatter\": [{\"marker\": {\"colorbar\": {\"outlinewidth\": 0, \"ticks\": \"\"}}, \"type\": \"scatter\"}], \"scatter3d\": [{\"line\": {\"colorbar\": {\"outlinewidth\": 0, \"ticks\": \"\"}}, \"marker\": {\"colorbar\": {\"outlinewidth\": 0, \"ticks\": \"\"}}, \"type\": \"scatter3d\"}], \"scattercarpet\": [{\"marker\": {\"colorbar\": {\"outlinewidth\": 0, \"ticks\": \"\"}}, \"type\": \"scattercarpet\"}], \"scattergeo\": [{\"marker\": {\"colorbar\": {\"outlinewidth\": 0, \"ticks\": \"\"}}, \"type\": \"scattergeo\"}], \"scattergl\": [{\"marker\": {\"colorbar\": {\"outlinewidth\": 0, \"ticks\": \"\"}}, \"type\": \"scattergl\"}], \"scattermapbox\": [{\"marker\": {\"colorbar\": {\"outlinewidth\": 0, \"ticks\": \"\"}}, \"type\": \"scattermapbox\"}], \"scatterpolar\": [{\"marker\": {\"colorbar\": {\"outlinewidth\": 0, \"ticks\": \"\"}}, \"type\": \"scatterpolar\"}], \"scatterpolargl\": [{\"marker\": {\"colorbar\": {\"outlinewidth\": 0, \"ticks\": \"\"}}, \"type\": \"scatterpolargl\"}], \"scatterternary\": [{\"marker\": {\"colorbar\": {\"outlinewidth\": 0, \"ticks\": \"\"}}, \"type\": \"scatterternary\"}], \"surface\": [{\"colorbar\": {\"outlinewidth\": 0, \"ticks\": \"\"}, \"colorscale\": [[0.0, \"#0d0887\"], [0.1111111111111111, \"#46039f\"], [0.2222222222222222, \"#7201a8\"], [0.3333333333333333, \"#9c179e\"], [0.4444444444444444, \"#bd3786\"], [0.5555555555555556, \"#d8576b\"], [0.6666666666666666, \"#ed7953\"], [0.7777777777777778, \"#fb9f3a\"], [0.8888888888888888, \"#fdca26\"], [1.0, \"#f0f921\"]], \"type\": \"surface\"}], \"table\": [{\"cells\": {\"fill\": {\"color\": \"#EBF0F8\"}, \"line\": {\"color\": \"white\"}}, \"header\": {\"fill\": {\"color\": \"#C8D4E3\"}, \"line\": {\"color\": \"white\"}}, \"type\": \"table\"}]}, \"layout\": {\"annotationdefaults\": {\"arrowcolor\": \"#2a3f5f\", \"arrowhead\": 0, \"arrowwidth\": 1}, \"coloraxis\": {\"colorbar\": {\"outlinewidth\": 0, \"ticks\": \"\"}}, \"colorscale\": {\"diverging\": [[0, \"#8e0152\"], [0.1, \"#c51b7d\"], [0.2, \"#de77ae\"], [0.3, \"#f1b6da\"], [0.4, \"#fde0ef\"], [0.5, \"#f7f7f7\"], [0.6, \"#e6f5d0\"], [0.7, \"#b8e186\"], [0.8, \"#7fbc41\"], [0.9, \"#4d9221\"], [1, \"#276419\"]], \"sequential\": [[0.0, \"#0d0887\"], [0.1111111111111111, \"#46039f\"], [0.2222222222222222, \"#7201a8\"], [0.3333333333333333, \"#9c179e\"], [0.4444444444444444, \"#bd3786\"], [0.5555555555555556, \"#d8576b\"], [0.6666666666666666, \"#ed7953\"], [0.7777777777777778, \"#fb9f3a\"], [0.8888888888888888, \"#fdca26\"], [1.0, \"#f0f921\"]], \"sequentialminus\": [[0.0, \"#0d0887\"], [0.1111111111111111, \"#46039f\"], [0.2222222222222222, \"#7201a8\"], [0.3333333333333333, \"#9c179e\"], [0.4444444444444444, \"#bd3786\"], [0.5555555555555556, \"#d8576b\"], [0.6666666666666666, \"#ed7953\"], [0.7777777777777778, \"#fb9f3a\"], [0.8888888888888888, \"#fdca26\"], [1.0, \"#f0f921\"]]}, \"colorway\": [\"#636efa\", \"#EF553B\", \"#00cc96\", \"#ab63fa\", \"#FFA15A\", \"#19d3f3\", \"#FF6692\", \"#B6E880\", \"#FF97FF\", \"#FECB52\"], \"font\": {\"color\": \"#2a3f5f\"}, \"geo\": {\"bgcolor\": \"white\", \"lakecolor\": \"white\", \"landcolor\": \"#E5ECF6\", \"showlakes\": true, \"showland\": true, \"subunitcolor\": \"white\"}, \"hoverlabel\": {\"align\": \"left\"}, \"hovermode\": \"closest\", \"mapbox\": {\"style\": \"light\"}, \"paper_bgcolor\": \"white\", \"plot_bgcolor\": \"#E5ECF6\", \"polar\": {\"angularaxis\": {\"gridcolor\": \"white\", \"linecolor\": \"white\", \"ticks\": \"\"}, \"bgcolor\": \"#E5ECF6\", \"radialaxis\": {\"gridcolor\": \"white\", \"linecolor\": \"white\", \"ticks\": \"\"}}, \"scene\": {\"xaxis\": {\"backgroundcolor\": \"#E5ECF6\", \"gridcolor\": \"white\", \"gridwidth\": 2, \"linecolor\": \"white\", \"showbackground\": true, \"ticks\": \"\", \"zerolinecolor\": \"white\"}, \"yaxis\": {\"backgroundcolor\": \"#E5ECF6\", \"gridcolor\": \"white\", \"gridwidth\": 2, \"linecolor\": \"white\", \"showbackground\": true, \"ticks\": \"\", \"zerolinecolor\": \"white\"}, \"zaxis\": {\"backgroundcolor\": \"#E5ECF6\", \"gridcolor\": \"white\", \"gridwidth\": 2, \"linecolor\": \"white\", \"showbackground\": true, \"ticks\": \"\", \"zerolinecolor\": \"white\"}}, \"shapedefaults\": {\"line\": {\"color\": \"#2a3f5f\"}}, \"ternary\": {\"aaxis\": {\"gridcolor\": \"white\", \"linecolor\": \"white\", \"ticks\": \"\"}, \"baxis\": {\"gridcolor\": \"white\", \"linecolor\": \"white\", \"ticks\": \"\"}, \"bgcolor\": \"#E5ECF6\", \"caxis\": {\"gridcolor\": \"white\", \"linecolor\": \"white\", \"ticks\": \"\"}}, \"title\": {\"x\": 0.05}, \"xaxis\": {\"automargin\": true, \"gridcolor\": \"white\", \"linecolor\": \"white\", \"ticks\": \"\", \"title\": {\"standoff\": 15}, \"zerolinecolor\": \"white\", \"zerolinewidth\": 2}, \"yaxis\": {\"automargin\": true, \"gridcolor\": \"white\", \"linecolor\": \"white\", \"ticks\": \"\", \"title\": {\"standoff\": 15}, \"zerolinecolor\": \"white\", \"zerolinewidth\": 2}}}, \"title\": {\"text\": \"Validation Accuracy v.s. K Values\"}, \"xaxis\": {\"title\": {\"text\": \"K Values\"}}, \"yaxis\": {\"title\": {\"text\": \"Validation Accuracy\"}}},\n",
              "                        {\"responsive\": true}\n",
              "                    ).then(function(){\n",
              "                            \n",
              "var gd = document.getElementById('59278718-27d8-4d35-9c3a-6a3eb821f2df');\n",
              "var x = new MutationObserver(function (mutations, observer) {{\n",
              "        var display = window.getComputedStyle(gd).display;\n",
              "        if (!display || display === 'none') {{\n",
              "            console.log([gd, 'removed!']);\n",
              "            Plotly.purge(gd);\n",
              "            observer.disconnect();\n",
              "        }}\n",
              "}});\n",
              "\n",
              "// Listen for the removal of the full notebook cells\n",
              "var notebookContainer = gd.closest('#notebook-container');\n",
              "if (notebookContainer) {{\n",
              "    x.observe(notebookContainer, {childList: true});\n",
              "}}\n",
              "\n",
              "// Listen for the clearing of the current output cell\n",
              "var outputEl = gd.closest('.output');\n",
              "if (outputEl) {{\n",
              "    x.observe(outputEl, {childList: true});\n",
              "}}\n",
              "\n",
              "                        })\n",
              "                };\n",
              "                \n",
              "            </script>\n",
              "        </div>\n",
              "</body>\n",
              "</html>"
            ]
          },
          "metadata": {
            "tags": []
          }
        }
      ]
    },
    {
      "cell_type": "markdown",
      "metadata": {
        "id": "oIWWFEVkIVta"
      },
      "source": [
        "- Can you explain the trend in the plot? \n",
        "\n",
        "- What do you think happens when k=1 or when k takes larger values? Why do these trends occur?\n",
        "\n",
        "- Which optimal value of k should be chosen?"
      ]
    },
    {
      "cell_type": "markdown",
      "metadata": {
        "id": "DLFocic8UNa2"
      },
      "source": [
        "## Evaluation\n",
        "Retraining with our chosen value of k, we can reevaluate the selected classifier. "
      ]
    },
    {
      "cell_type": "code",
      "metadata": {
        "id": "CGP0X7DEFal5",
        "colab": {
          "base_uri": "https://localhost:8080/",
          "height": 1000
        },
        "outputId": "b4b7e592-d523-4ba8-b80a-a14513b28bd4"
      },
      "source": [
        "# re-train our classifier using  k = 5 and predict the labels of the test data\n",
        "k = 12\n",
        "model = KNeighborsClassifier(n_neighbors=k_values[k])\n",
        "model.fit(X_train, y_train)\n",
        "predictions = model.predict(X_test)\n",
        "\n",
        "# show a final classification report demonstrating the accuracy of the classifier\n",
        "# for each of the digits\n",
        "\n",
        "print(\"EVALUATION ON TESTING DATA\")\n",
        "print(classification_report(y_test, predictions))\n",
        "\n",
        "# displaying results for a few digits\n",
        "for i in np.random.randint(0, high=len(y_test), size=(5,)):\n",
        "  # grab the image and classify it\n",
        "  image = X_test[i]\n",
        "  prediction = model.predict([image])[0]\n",
        "  \n",
        "  # show the prediction\n",
        "  imgdata = np.array(image, dtype='float')\n",
        "  pixels = imgdata.reshape((8,8))\n",
        "  plt.figure()\n",
        "  plt.imshow(pixels,cmap='gray')\n",
        "  plt.annotate(prediction,(3,3),bbox={'facecolor':'white'},fontsize=16)\n",
        "  # show correct or wrong\n",
        "  title = 'Correct' if prediction == y_test[i] else 'wrong!'\n",
        "  plt.title(title)\n",
        "  print(\"Predicted digit : \",prediction)\n",
        "  plt.show()"
      ],
      "execution_count": 93,
      "outputs": [
        {
          "output_type": "stream",
          "text": [
            "EVALUATION ON TESTING DATA\n",
            "              precision    recall  f1-score   support\n",
            "\n",
            "           0       0.97      1.00      0.99        37\n",
            "           1       0.93      0.98      0.95        43\n",
            "           2       1.00      0.95      0.98        44\n",
            "           3       0.98      0.98      0.98        45\n",
            "           4       1.00      0.97      0.99        38\n",
            "           5       0.98      0.98      0.98        48\n",
            "           6       0.96      1.00      0.98        52\n",
            "           7       0.94      1.00      0.97        48\n",
            "           8       0.98      0.88      0.92        48\n",
            "           9       0.98      0.98      0.98        47\n",
            "\n",
            "    accuracy                           0.97       450\n",
            "   macro avg       0.97      0.97      0.97       450\n",
            "weighted avg       0.97      0.97      0.97       450\n",
            "\n",
            "Predicted digit :  3\n",
            "Predicted digit :  8\n",
            "Predicted digit :  8\n",
            "Predicted digit :  8\n",
            "Predicted digit :  2\n"
          ],
          "name": "stdout"
        },
        {
          "output_type": "display_data",
          "data": {
            "image/png": "[encoded data removed]",
            "text/plain": [
              "<Figure size 432x288 with 1 Axes>"
            ]
          },
          "metadata": {
            "tags": [],
            "needs_background": "light"
          }
        },
        {
          "output_type": "display_data",
          "data": {
            "image/png": "[encoded data removed]",
            "text/plain": [
              "<Figure size 432x288 with 1 Axes>"
            ]
          },
          "metadata": {
            "tags": [],
            "needs_background": "light"
          }
        },
        {
          "output_type": "display_data",
          "data": {
            "image/png": "[encoded data removed]",
            "text/plain": [
              "<Figure size 432x288 with 1 Axes>"
            ]
          },
          "metadata": {
            "tags": [],
            "needs_background": "light"
          }
        },
        {
          "output_type": "display_data",
          "data": {
            "image/png": "[encoded data removed]",
            "text/plain": [
              "<Figure size 432x288 with 1 Axes>"
            ]
          },
          "metadata": {
            "tags": [],
            "needs_background": "light"
          }
        },
        {
          "output_type": "display_data",
          "data": {
            "image/png": "[encoded data removed]",
            "text/plain": [
              "<Figure size 432x288 with 1 Axes>"
            ]
          },
          "metadata": {
            "tags": [],
            "needs_background": "light"
          }
        }
      ]
    }
  ]
}