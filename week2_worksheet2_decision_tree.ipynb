{
  "nbformat": 4,
  "nbformat_minor": 0,
  "metadata": {
    "colab": {
      "name": "week2_worksheet2_decision_tree.ipynb",
      "provenance": [],
      "include_colab_link": true
    },
    "kernelspec": {
      "name": "python3",
      "display_name": "Python 3"
    }
  },
  "cells": [
    {
      "cell_type": "markdown",
      "metadata": {
        "id": "view-in-github",
        "colab_type": "text"
      },
      "source": [
        "<a href=\"https://colab.research.google.com/github/tynguyen/ML_ipython_worksheets/blob/main/week2_worksheet2_decision_tree.ipynb\" target=\"_parent\"><img src=\"https://colab.research.google.com/assets/colab-badge.svg\" alt=\"Open In Colab\"/></a>"
      ]
    },
    {
      "cell_type": "markdown",
      "metadata": {
        "id": "ppukpJ6iazKX"
      },
      "source": [
        "#CIS 519 \n",
        "##Week 2, Worksheet 2\n",
        "# **Decision Tree**\n",
        "**Goal** : Getting familiar with using built-in decision trees from Scikit-learn . \n",
        "\n",
        "Content Creator: Ty Nguyen \\\\\n",
        "Content Reviewers:  Halley Young, Kyle Vedder"
      ]
    },
    {
      "cell_type": "code",
      "metadata": {
        "colab": {
          "base_uri": "https://localhost:8080/"
        },
        "id": "xtZ-ypYubFkr",
        "outputId": "ae2d91fc-7ead-4f81-8e09-29f2a69a4db4"
      },
      "source": [
        "# Install packages\n",
        "!python -m pip install panda\n",
        "!python -m pip install numpy \n",
        "!python -m pip install scikit-learn"
      ],
      "execution_count": null,
      "outputs": [
        {
          "output_type": "stream",
          "text": [
            "Collecting panda\n",
            "  Downloading https://files.pythonhosted.org/packages/79/03/74996420528fe488ce17c42b6400531c8067d7eb661c304fa3aa8fdad17c/panda-0.3.1.tar.gz\n",
            "Requirement already satisfied: setuptools in /usr/local/lib/python2.7/dist-packages (from panda) (44.1.1)\n",
            "Requirement already satisfied: requests in /usr/local/lib/python2.7/dist-packages (from panda) (2.23.0)\n",
            "Requirement already satisfied: urllib3!=1.25.0,!=1.25.1,<1.26,>=1.21.1 in /usr/local/lib/python2.7/dist-packages (from requests->panda) (1.24.3)\n",
            "Requirement already satisfied: chardet<4,>=3.0.2 in /usr/local/lib/python2.7/dist-packages (from requests->panda) (3.0.4)\n",
            "Requirement already satisfied: certifi>=2017.4.17 in /usr/local/lib/python2.7/dist-packages (from requests->panda) (2019.6.16)\n",
            "Requirement already satisfied: idna<3,>=2.5 in /usr/local/lib/python2.7/dist-packages (from requests->panda) (2.8)\n",
            "Building wheels for collected packages: panda\n",
            "  Building wheel for panda (setup.py) ... \u001b[?25l\u001b[?25hdone\n",
            "  Created wheel for panda: filename=panda-0.3.1-cp27-none-any.whl size=7259 sha256=01f3df89ee69e94d82c0be1d432ffaeaa3c9b15e32fcc75b0275c36047e4a9be\n",
            "  Stored in directory: /root/.cache/pip/wheels/c6/c8/45/06ed898b0bb401c1ff207dbb05b1587ff28860a236d98b1996\n",
            "Successfully built panda\n",
            "Installing collected packages: panda\n",
            "Successfully installed panda-0.3.1\n",
            "Requirement already satisfied: numpy in /usr/local/lib/python2.7/dist-packages (1.16.4)\n"
          ],
          "name": "stdout"
        }
      ]
    },
    {
      "cell_type": "code",
      "metadata": {
        "id": "0--dSqe8Lcqg"
      },
      "source": [
        "# Imports \n",
        "import numpy as np\n",
        "import os"
      ],
      "execution_count": 2,
      "outputs": []
    },
    {
      "cell_type": "markdown",
      "metadata": {
        "id": "7SwjSPt2GVHg"
      },
      "source": [
        "# Simple Training"
      ]
    },
    {
      "cell_type": "code",
      "metadata": {
        "id": "CkdP9cUXGXuR"
      },
      "source": [
        "# Load data\n",
        "from sklearn.datasets import load_iris\n",
        "from sklearn.tree import DecisionTreeClassifier as DT_classifier\n",
        "\n",
        "# Use IRIS dataset that can be loaded using load_iris\n",
        "iris_data = load_iris()\n",
        "# Investigate data\n",
        "dir(iris_data) # see built-in functions \n",
        "iris_np_data = iris_data['data'] # np.ndarray N x 4 (N instances, 4 columns)\n",
        "iris_target  = iris_data['target'] # Y - classes for each instance (N,)\n",
        "iris_feature_names = iris_data['feature_names'] # (4,)\n",
        "iris_target_names  = iris_data['target_names'] # (3,)"
      ],
      "execution_count": 3,
      "outputs": []
    },
    {
      "cell_type": "code",
      "metadata": {
        "colab": {
          "base_uri": "https://localhost:8080/"
        },
        "id": "OiLgkOmjHbno",
        "outputId": "97cdcaeb-7464-48b2-89e6-3432bde3c266"
      },
      "source": [
        "iris_target_names"
      ],
      "execution_count": 4,
      "outputs": [
        {
          "output_type": "execute_result",
          "data": {
            "text/plain": [
              "array(['setosa', 'versicolor', 'virginica'], dtype='<U10')"
            ]
          },
          "metadata": {
            "tags": []
          },
          "execution_count": 4
        }
      ]
    },
    {
      "cell_type": "code",
      "metadata": {
        "colab": {
          "base_uri": "https://localhost:8080/"
        },
        "id": "LQTg5sfNHcne",
        "outputId": "9750b2cc-9570-4688-bfd2-ee4cdb2704d7"
      },
      "source": [
        "iris_feature_names"
      ],
      "execution_count": 5,
      "outputs": [
        {
          "output_type": "execute_result",
          "data": {
            "text/plain": [
              "['sepal length (cm)',\n",
              " 'sepal width (cm)',\n",
              " 'petal length (cm)',\n",
              " 'petal width (cm)']"
            ]
          },
          "metadata": {
            "tags": []
          },
          "execution_count": 5
        }
      ]
    },
    {
      "cell_type": "code",
      "metadata": {
        "colab": {
          "base_uri": "https://localhost:8080/"
        },
        "id": "FLJJIOtoHfJu",
        "outputId": "83f0096e-e23b-40ec-b446-296c7cefbd31"
      },
      "source": [
        "iris_target"
      ],
      "execution_count": 6,
      "outputs": [
        {
          "output_type": "execute_result",
          "data": {
            "text/plain": [
              "array([0, 0, 0, 0, 0, 0, 0, 0, 0, 0, 0, 0, 0, 0, 0, 0, 0, 0, 0, 0, 0, 0,\n",
              "       0, 0, 0, 0, 0, 0, 0, 0, 0, 0, 0, 0, 0, 0, 0, 0, 0, 0, 0, 0, 0, 0,\n",
              "       0, 0, 0, 0, 0, 0, 1, 1, 1, 1, 1, 1, 1, 1, 1, 1, 1, 1, 1, 1, 1, 1,\n",
              "       1, 1, 1, 1, 1, 1, 1, 1, 1, 1, 1, 1, 1, 1, 1, 1, 1, 1, 1, 1, 1, 1,\n",
              "       1, 1, 1, 1, 1, 1, 1, 1, 1, 1, 1, 1, 2, 2, 2, 2, 2, 2, 2, 2, 2, 2,\n",
              "       2, 2, 2, 2, 2, 2, 2, 2, 2, 2, 2, 2, 2, 2, 2, 2, 2, 2, 2, 2, 2, 2,\n",
              "       2, 2, 2, 2, 2, 2, 2, 2, 2, 2, 2, 2, 2, 2, 2, 2, 2, 2])"
            ]
          },
          "metadata": {
            "tags": []
          },
          "execution_count": 6
        }
      ]
    },
    {
      "cell_type": "code",
      "metadata": {
        "colab": {
          "base_uri": "https://localhost:8080/"
        },
        "id": "t54yhyOlHr_O",
        "outputId": "6aadfa63-eddf-4bd9-89b7-f7a813056270"
      },
      "source": [
        "iris_np_data.shape"
      ],
      "execution_count": 7,
      "outputs": [
        {
          "output_type": "execute_result",
          "data": {
            "text/plain": [
              "(150, 4)"
            ]
          },
          "metadata": {
            "tags": []
          },
          "execution_count": 7
        }
      ]
    },
    {
      "cell_type": "code",
      "metadata": {
        "colab": {
          "base_uri": "https://localhost:8080/"
        },
        "id": "Hvyf2MCHGvsf",
        "outputId": "cf3a9da6-f764-45b2-e6cf-9a957eb225f0"
      },
      "source": [
        "dir(iris_data)"
      ],
      "execution_count": null,
      "outputs": [
        {
          "output_type": "execute_result",
          "data": {
            "text/plain": [
              "['DESCR', 'data', 'feature_names', 'filename', 'target', 'target_names']"
            ]
          },
          "metadata": {
            "tags": []
          },
          "execution_count": 6
        }
      ]
    },
    {
      "cell_type": "code",
      "metadata": {
        "id": "Rax03TUCJb1x"
      },
      "source": [
        "# Split data\n",
        "from sklearn.model_selection import train_test_split\n",
        "# Select only last two features from the given features. Compare with using all features? \n",
        "X = iris_np_data[:, 2:] # N x 2 \n",
        "y = iris_target # N, \n",
        "\n",
        "X_train, X_test, y_train, y_test = train_test_split(X, y, test_size=0.2)"
      ],
      "execution_count": 13,
      "outputs": []
    },
    {
      "cell_type": "code",
      "metadata": {
        "colab": {
          "base_uri": "https://localhost:8080/"
        },
        "id": "ujbp44CYHrEf",
        "outputId": "3d1f07ed-8509-426e-9886-3c09198e6350"
      },
      "source": [
        "# Create a decision tree\n",
        "tree_clf = DT_classifier(max_depth=2, criterion='entropy', random_state=0) \n",
        "tree_clf.fit(X_train,y_train)"
      ],
      "execution_count": 14,
      "outputs": [
        {
          "output_type": "execute_result",
          "data": {
            "text/plain": [
              "DecisionTreeClassifier(ccp_alpha=0.0, class_weight=None, criterion='entropy',\n",
              "                       max_depth=2, max_features=None, max_leaf_nodes=None,\n",
              "                       min_impurity_decrease=0.0, min_impurity_split=None,\n",
              "                       min_samples_leaf=1, min_samples_split=2,\n",
              "                       min_weight_fraction_leaf=0.0, presort='deprecated',\n",
              "                       random_state=0, splitter='best')"
            ]
          },
          "metadata": {
            "tags": []
          },
          "execution_count": 14
        }
      ]
    },
    {
      "cell_type": "markdown",
      "metadata": {
        "id": "ekz70E-eI8QL"
      },
      "source": [
        "# Training Accuracy"
      ]
    },
    {
      "cell_type": "code",
      "metadata": {
        "id": "N9OCz_7GI-NW",
        "outputId": "eb97e2ea-5746-42e9-c9ef-7b94a61d18c6",
        "colab": {
          "base_uri": "https://localhost:8080/"
        }
      },
      "source": [
        "# Prediction on the training set \n",
        "y_pred = tree_clf.predict(X_train)\n",
        "y_pred"
      ],
      "execution_count": 16,
      "outputs": [
        {
          "output_type": "execute_result",
          "data": {
            "text/plain": [
              "array([0, 0, 2, 0, 0, 2, 2, 2, 0, 1, 0, 2, 1, 2, 2, 0, 1, 0, 1, 1, 1, 1,\n",
              "       0, 2, 1, 1, 0, 2, 1, 1, 2, 1, 1, 0, 2, 1, 2, 1, 1, 2, 2, 1, 0, 0,\n",
              "       1, 0, 0, 1, 1, 2, 0, 2, 0, 0, 2, 1, 2, 1, 0, 0, 2, 0, 2, 1, 1, 2,\n",
              "       1, 1, 2, 2, 0, 0, 1, 2, 0, 0, 0, 0, 0, 0, 1, 2, 0, 2, 2, 0, 1, 0,\n",
              "       2, 1, 1, 1, 0, 0, 2, 0, 2, 0, 2, 2, 0, 0, 2, 0, 2, 2, 1, 1, 2, 2,\n",
              "       0, 0, 0, 1, 2, 1, 0, 2, 1, 1])"
            ]
          },
          "metadata": {
            "tags": []
          },
          "execution_count": 16
        }
      ]
    },
    {
      "cell_type": "code",
      "metadata": {
        "id": "AySqeI1DJS1C",
        "outputId": "8d9af1de-5ed3-46b7-c786-68bf8155b062",
        "colab": {
          "base_uri": "https://localhost:8080/"
        }
      },
      "source": [
        "# Compare with the ground truth \n",
        "y_train"
      ],
      "execution_count": 17,
      "outputs": [
        {
          "output_type": "execute_result",
          "data": {
            "text/plain": [
              "array([0, 0, 2, 0, 0, 2, 2, 2, 0, 1, 0, 2, 1, 2, 2, 0, 1, 0, 1, 1, 1, 1,\n",
              "       0, 2, 1, 1, 0, 2, 1, 1, 2, 2, 1, 0, 2, 1, 2, 1, 1, 2, 2, 1, 0, 0,\n",
              "       1, 0, 0, 1, 1, 2, 0, 2, 0, 0, 2, 1, 2, 2, 0, 0, 2, 0, 2, 1, 1, 2,\n",
              "       1, 1, 2, 2, 0, 0, 1, 2, 0, 0, 0, 0, 0, 0, 1, 2, 0, 2, 2, 0, 1, 0,\n",
              "       2, 1, 1, 1, 0, 0, 2, 0, 2, 0, 2, 2, 0, 0, 2, 0, 2, 2, 2, 1, 2, 2,\n",
              "       0, 0, 0, 1, 2, 1, 0, 2, 1, 1])"
            ]
          },
          "metadata": {
            "tags": []
          },
          "execution_count": 17
        }
      ]
    },
    {
      "cell_type": "code",
      "metadata": {
        "id": "TtpAMpp_JWUn",
        "outputId": "dcda749a-d8c3-45ae-c8cd-cb380e418585",
        "colab": {
          "base_uri": "https://localhost:8080/"
        }
      },
      "source": [
        "# Get Accuracy\n",
        "accuracy = np.sum(y_pred == y_train)/float(len(y_train))\n",
        "accuracy"
      ],
      "execution_count": 18,
      "outputs": [
        {
          "output_type": "execute_result",
          "data": {
            "text/plain": [
              "0.975"
            ]
          },
          "metadata": {
            "tags": []
          },
          "execution_count": 18
        }
      ]
    },
    {
      "cell_type": "markdown",
      "metadata": {
        "id": "7lJ64j0gKotZ"
      },
      "source": [
        "# Validation (test)"
      ]
    },
    {
      "cell_type": "code",
      "metadata": {
        "colab": {
          "base_uri": "https://localhost:8080/"
        },
        "id": "8-LkNXqNKnxh",
        "outputId": "5727e7fa-08bc-4f07-b78d-51a2859425df"
      },
      "source": [
        "# Prediction on the test set \n",
        "y_pred = tree_clf.predict(X_test)\n",
        "y_pred"
      ],
      "execution_count": null,
      "outputs": [
        {
          "output_type": "execute_result",
          "data": {
            "text/plain": [
              "array([0, 2, 0, 0, 0, 1, 1, 0, 1, 0, 0, 0, 0, 1, 1, 0, 2, 2, 1, 2, 1, 2,\n",
              "       1, 0, 0, 0, 0, 1, 1, 2])"
            ]
          },
          "metadata": {
            "tags": []
          },
          "execution_count": 89
        }
      ]
    },
    {
      "cell_type": "code",
      "metadata": {
        "colab": {
          "base_uri": "https://localhost:8080/"
        },
        "id": "hd2SdgfzKoFy",
        "outputId": "41794d0a-0356-4103-ec8d-d9c4e7ce0fbe"
      },
      "source": [
        "# Compare with the ground truth \n",
        "y_test"
      ],
      "execution_count": null,
      "outputs": [
        {
          "output_type": "execute_result",
          "data": {
            "text/plain": [
              "array([1, 0, 2, 0, 0, 0, 1, 1, 1, 0, 0, 1, 0, 0, 0, 2, 1, 2, 0, 0, 2, 0,\n",
              "       1, 1, 2, 2, 0, 1, 1, 1])"
            ]
          },
          "metadata": {
            "tags": []
          },
          "execution_count": 27
        }
      ]
    },
    {
      "cell_type": "code",
      "metadata": {
        "colab": {
          "base_uri": "https://localhost:8080/"
        },
        "id": "3tWeqGqOLIcd",
        "outputId": "48607933-8cdb-4280-ad51-7bbc995d74c2"
      },
      "source": [
        "# Get Accuracy\n",
        "accuracy = np.sum(y_pred == y_test)/float(len(y_test))\n",
        "accuracy"
      ],
      "execution_count": null,
      "outputs": [
        {
          "output_type": "execute_result",
          "data": {
            "text/plain": [
              "0.9333333333333333"
            ]
          },
          "metadata": {
            "tags": []
          },
          "execution_count": 82
        }
      ]
    },
    {
      "cell_type": "code",
      "metadata": {
        "colab": {
          "base_uri": "https://localhost:8080/"
        },
        "id": "nmrweOHYc9HE",
        "outputId": "c262f3ef-542b-4322-c121-7dbae2260a6f"
      },
      "source": [
        "# To get a better understanding of our dataset, we can look at the probabilities with which our decision tree classifier is expected to assign a given data point to each of the three different classes of flowers.\n",
        "y_logits = tree_clf.predict_proba(X_test)\n",
        "y_logits[:3] # show only 3 instances "
      ],
      "execution_count": null,
      "outputs": [
        {
          "output_type": "execute_result",
          "data": {
            "text/plain": [
              "array([[1.   , 0.   , 0.   ],\n",
              "       [0.   , 0.025, 0.975],\n",
              "       [1.   , 0.   , 0.   ]])"
            ]
          },
          "metadata": {
            "tags": []
          },
          "execution_count": 98
        }
      ]
    },
    {
      "cell_type": "markdown",
      "metadata": {
        "id": "GdrFQTIcL_s_"
      },
      "source": [
        "# Visualization"
      ]
    },
    {
      "cell_type": "code",
      "metadata": {
        "id": "OlLrf0a4NSFo"
      },
      "source": [
        "# First, we will mount a Google Drive locally to this colab\n",
        "# Let say we want to read and save files i.e. \"test_colab.txt\" from this google drive directory,https://drive.google.com/drive/my-drive/CIS519/figures/test_colab.txt\n",
        "# Run the following lines and follow the printed instructions\n",
        "from google.colab import drive\n",
        "drive.mount('/content/drive/')"
      ],
      "execution_count": null,
      "outputs": []
    },
    {
      "cell_type": "code",
      "metadata": {
        "colab": {
          "base_uri": "https://localhost:8080/"
        },
        "id": "3DuTKMbAQk48",
        "outputId": "09df4655-2097-4f7a-d91c-a64d2b2ea687"
      },
      "source": [
        "# After mounting, we can just extend '/content/drive/' with the remaining substring in the google drive directory of the file\n",
        "file_dir = '/content/drive/My Drive/CIS519/figures/test_colab.txt'\n",
        "with open(file_dir, 'r') as f:\n",
        "  line = f.readline()\n",
        "  print(line)"
      ],
      "execution_count": null,
      "outputs": [
        {
          "output_type": "stream",
          "text": [
            "read this file from google drive\n",
            "\n"
          ],
          "name": "stdout"
        }
      ]
    },
    {
      "cell_type": "code",
      "metadata": {
        "colab": {
          "base_uri": "https://localhost:8080/",
          "height": 17
        },
        "id": "ViLCp3KwTYuG",
        "outputId": "39bf793e-d246-4807-96cb-485fb5ad45c5"
      },
      "source": [
        "# visualize the tree \n",
        "from sklearn.tree import export_graphviz\n",
        "\n",
        "# Save the visualization of the trained tree to this colab's local\n",
        "tree_viz_dot_file = 'iris_tree_2feats.dot'\n",
        "export_graphviz(tree_clf,\n",
        "                out_file =tree_viz_dot_file,\n",
        "                feature_names = iris_feature_names[2:],\n",
        "                class_names= iris_target_names,\n",
        "                rounded=True,\n",
        "                filled=True)\n",
        "# Save this visualization to a png file and download to the local machine\n",
        "!dot -Tpng iris_tree_2feats.dot -o iris_tree_2feats.png \n",
        "\n",
        "from google.colab import files\n",
        "files.download(tree_viz_png_file)"
      ],
      "execution_count": null,
      "outputs": [
        {
          "output_type": "display_data",
          "data": {
            "application/javascript": [
              "\n",
              "    async function download(id, filename, size) {\n",
              "      if (!google.colab.kernel.accessAllowed) {\n",
              "        return;\n",
              "      }\n",
              "      const div = document.createElement('div');\n",
              "      const label = document.createElement('label');\n",
              "      label.textContent = `Downloading \"${filename}\": `;\n",
              "      div.appendChild(label);\n",
              "      const progress = document.createElement('progress');\n",
              "      progress.max = size;\n",
              "      div.appendChild(progress);\n",
              "      document.body.appendChild(div);\n",
              "\n",
              "      const buffers = [];\n",
              "      let downloaded = 0;\n",
              "\n",
              "      const channel = await google.colab.kernel.comms.open(id);\n",
              "      // Send a message to notify the kernel that we're ready.\n",
              "      channel.send({})\n",
              "\n",
              "      for await (const message of channel.messages) {\n",
              "        // Send a message to notify the kernel that we're ready.\n",
              "        channel.send({})\n",
              "        if (message.buffers) {\n",
              "          for (const buffer of message.buffers) {\n",
              "            buffers.push(buffer);\n",
              "            downloaded += buffer.byteLength;\n",
              "            progress.value = downloaded;\n",
              "          }\n",
              "        }\n",
              "      }\n",
              "      const blob = new Blob(buffers, {type: 'application/binary'});\n",
              "      const a = document.createElement('a');\n",
              "      a.href = window.URL.createObjectURL(blob);\n",
              "      a.download = filename;\n",
              "      div.appendChild(a);\n",
              "      a.click();\n",
              "      div.remove();\n",
              "    }\n",
              "  "
            ],
            "text/plain": [
              "<IPython.core.display.Javascript object>"
            ]
          },
          "metadata": {
            "tags": []
          }
        },
        {
          "output_type": "display_data",
          "data": {
            "application/javascript": [
              "download(\"download_7aed8390-8124-49f3-968c-40f8f6d0f1d7\", \"iris_tree_2feats.png\", 61740)"
            ],
            "text/plain": [
              "<IPython.core.display.Javascript object>"
            ]
          },
          "metadata": {
            "tags": []
          }
        }
      ]
    },
    {
      "cell_type": "code",
      "metadata": {
        "colab": {
          "base_uri": "https://localhost:8080/",
          "height": 436
        },
        "id": "0v7lDQrcWJrY",
        "outputId": "a75c4ea1-1d4e-40ce-cbea-ad309d20b5d2"
      },
      "source": [
        "# The tree will look like this\n",
        "from PIL import Image\n",
        "Image.open('iris_tree_2feats.png')"
      ],
      "execution_count": null,
      "outputs": [
        {
          "output_type": "execute_result",
          "data": {
            "image/png": "[encoded data removed]",
            "text/plain": [
              "<PIL.PngImagePlugin.PngImageFile image mode=RGBA size=491x419 at 0x7F0541DF25C0>"
            ]
          },
          "metadata": {
            "tags": []
          },
          "execution_count": 92
        }
      ]
    },
    {
      "cell_type": "code",
      "metadata": {
        "colab": {
          "base_uri": "https://localhost:8080/",
          "height": 314
        },
        "id": "1fANLb8PMMXE",
        "outputId": "422430c3-9de0-4851-9122-7b67a797d9e8"
      },
      "source": [
        "# Visualize boundaries\n",
        "from matplotlib.colors import ListedColormap\n",
        "# To plot pretty figures\n",
        "%matplotlib inline\n",
        "import matplotlib as mpl\n",
        "import matplotlib.pyplot as plt\n",
        "mpl.rc('axes', labelsize=14)\n",
        "mpl.rc('xtick', labelsize=12)\n",
        "mpl.rc('ytick', labelsize=12)\n",
        "\n",
        "# Let say we will save our figures to a google drive directory. Make sure that this google drive has been mounted to the colab\n",
        "FIG_ROOT = '/content/drive/My Drive/CIS519/figures/'\n",
        "\n",
        "def image_path(fig_id):\n",
        "    return os.path.join(FIG_ROOT, fig_id)\n",
        "\n",
        "def save_fig(fig_id, tight_layout=True, is_download=True):\n",
        "    print(\"Saving figure\", fig_id)\n",
        "    if tight_layout:\n",
        "        plt.tight_layout()\n",
        "    img_file = image_path(fig_id) + \".png\"\n",
        "    plt.savefig(img_file, format='png', dpi=300)\n",
        "    # We can also save this saved file to our local machine \n",
        "    if is_download:\n",
        "      from google.colab import files\n",
        "      files.download(img_file)\n",
        "      print(f\">> Successfully download file {img_file} to the local machine!\")\n",
        " \n",
        " \n",
        "def plot_decision_boundary(clf, X, y, axes=[0, 7.5, 0, 3], iris=True, legend=False, plot_training=True):\n",
        "    x1s = np.linspace(axes[0], axes[1], 100)\n",
        "    x2s = np.linspace(axes[2], axes[3], 100)\n",
        "    x1, x2 = np.meshgrid(x1s, x2s)\n",
        "    X_new = np.c_[x1.ravel(), x2.ravel()]\n",
        "    y_pred = clf.predict(X_new).reshape(x1.shape)\n",
        "    custom_cmap = ListedColormap(['#fafab0','#9898ff','#a0faa0'])\n",
        "    plt.contourf(x1, x2, y_pred, alpha=0.3, cmap=custom_cmap)\n",
        "    if not iris:\n",
        "        custom_cmap2 = ListedColormap(['#7d7d58','#4c4c7f','#507d50'])\n",
        "        plt.contour(x1, x2, y_pred, cmap=custom_cmap2, alpha=0.8)\n",
        "    if plot_training:\n",
        "        plt.plot(X[:, 0][y==0], X[:, 1][y==0], \"yo\", label=\"Iris-Setosa\")\n",
        "        plt.plot(X[:, 0][y==1], X[:, 1][y==1], \"bs\", label=\"Iris-Versicolor\")\n",
        "        plt.plot(X[:, 0][y==2], X[:, 1][y==2], \"g^\", label=\"Iris-Virginica\")\n",
        "        plt.axis(axes)\n",
        "    if iris:\n",
        "        plt.xlabel(\"Petal length\", fontsize=14)\n",
        "        plt.ylabel(\"Petal width\", fontsize=14)\n",
        "    else:\n",
        "        plt.xlabel(r\"$x_1$\", fontsize=18)\n",
        "        plt.ylabel(r\"$x_2$\", fontsize=18, rotation=0)\n",
        "    if legend:\n",
        "        plt.legend(loc=\"lower right\", fontsize=14)\n",
        "\n",
        "plt.figure(figsize=(8, 4))\n",
        "plot_decision_boundary(tree_clf, X, y)\n",
        "# Plot texts that represent the partitions. Values used to draw these lines are taken from the tree visualization (threshold values)\n",
        "plt.text(1.40, 1.0, \"Partition=0\", fontsize=15)\n",
        "plt.text(3.2, 1.80, \"Partition=1\", fontsize=13)\n",
        " \n",
        "save_fig(\"decision_tree_boundries_plot\", is_download=False) # Do not download locally\n",
        "plt.show()"
      ],
      "execution_count": null,
      "outputs": [
        {
          "output_type": "stream",
          "text": [
            "Saving figure decision_tree_boundries_plot\n"
          ],
          "name": "stdout"
        },
        {
          "output_type": "display_data",
          "data": {
            "image/png": "[encoded data removed]",
            "text/plain": [
              "<Figure size 576x288 with 1 Axes>"
            ]
          },
          "metadata": {
            "tags": [],
            "needs_background": "light"
          }
        }
      ]
    },
    {
      "cell_type": "markdown",
      "metadata": {
        "id": "Z7C9YpZ0cyEG"
      },
      "source": [
        "> From the above plot, consider the following questions:\n",
        "\n",
        "> What trend(s) are observed in the data with regards to petal length?\n",
        "Is petal length a good attribute to use for distinguishing different flowers? Why or why not?\n",
        "\n",
        "Other bonues: how's about using more features? adding noise to data to see if it's robust? prunning ? \n"
      ]
    },
    {
      "cell_type": "markdown",
      "metadata": {
        "id": "Y8ve3bNMKhUK"
      },
      "source": [
        "# Experimenting the Depth of a Decision Tree\n",
        "In this section, we will combine all together and experiment the (maximum) depth of a decision tree on a new dataset"
      ]
    },
    {
      "cell_type": "code",
      "metadata": {
        "id": "7XuRr4hrLAmj"
      },
      "source": [
        ""
      ],
      "execution_count": null,
      "outputs": []
    },
    {
      "cell_type": "markdown",
      "metadata": {
        "id": "JIQshPEx6OsU"
      },
      "source": [
        "## Credits to https://github.com/ageron/handson-ml/blob/master/06_decision_trees.ipynb"
      ]
    }
  ]
}